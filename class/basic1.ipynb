{
 "cells": [
  {
   "cell_type": "markdown",
   "metadata": {},
   "source": [
    "In Python, access modifiers control the visibility and accessibility of class attributes and methods. Python doesn’t have true access modifiers like some other programming languages (e.g., public, protected, and private in Java or C++). However, Python uses naming conventions to indicate the intended access level:\n",
    "\n",
    "Public (default): Accessible from anywhere.\n",
    "Protected: Indicated with a single underscore (_), intended for internal use only.\n",
    "Private: Indicated with a double underscore (__), restricted to the class where it is defined.\n",
    "Let's go over each type in detail.\n",
    "\n",
    "1. Public Access Modifier\n",
    "By default, all class attributes and methods in Python are public.\n",
    "Public attributes and methods can be accessed from both within and outside the class."
   ]
  },
  {
   "cell_type": "code",
   "execution_count": 1,
   "metadata": {},
   "outputs": [
    {
     "name": "stdout",
     "output_type": "stream",
     "text": [
      "Toyota\n",
      "Corolla\n",
      "Car: Toyota Corolla\n"
     ]
    }
   ],
   "source": [
    "class Car:\n",
    "    def __init__(self, brand, model):\n",
    "        self.brand = brand  # Public attribute\n",
    "        self.model = model  # Public attribute\n",
    "\n",
    "    def display_info(self):  # Public method\n",
    "        return f\"Car: {self.brand} {self.model}\"\n",
    "\n",
    "# Usage\n",
    "car = Car(\"Toyota\", \"Corolla\")\n",
    "print(car.brand)           # Accessible: Toyota\n",
    "print(car.model)           # Accessible: Corolla\n",
    "print(car.display_info())  # Accessible: Car: Toyota Corolla\n"
   ]
  },
  {
   "cell_type": "markdown",
   "metadata": {},
   "source": [
    "2. Protected Access Modifier\n",
    "Indicated by a single underscore prefix (_), e.g., _attribute.\n",
    "It suggests that the attribute or method is intended for internal use only (by the class and its subclasses).\n",
    "While it can still be accessed from outside, it is generally discouraged by convention."
   ]
  },
  {
   "cell_type": "code",
   "execution_count": 2,
   "metadata": {},
   "outputs": [
    {
     "name": "stdout",
     "output_type": "stream",
     "text": [
      "Toyota\n",
      "Car: Toyota Corolla\n"
     ]
    }
   ],
   "source": [
    "class Car:\n",
    "    def __init__(self, brand, model):\n",
    "        self._brand = brand  # Protected attribute\n",
    "        self._model = model  # Protected attribute\n",
    "\n",
    "    def _display_info(self):  # Protected method\n",
    "        return f\"Car: {self._brand} {self._model}\"\n",
    "\n",
    "# Usage\n",
    "car = Car(\"Toyota\", \"Corolla\")\n",
    "print(car._brand)           # Accessible but discouraged\n",
    "print(car._display_info())  # Accessible but discouraged\n"
   ]
  },
  {
   "cell_type": "markdown",
   "metadata": {},
   "source": [
    "3. Private Access Modifier\n",
    "Indicated by a double underscore prefix (__), e.g., __attribute.\n",
    "Private attributes and methods are accessible only within the class that defines them.\n",
    "They undergo name mangling, which means that the interpreter changes their name to include the class name (e.g., __attribute in class Car becomes _Car__attribute).\n",
    "This provides a level of access restriction, but it can still be accessed using the mangled name."
   ]
  },
  {
   "cell_type": "code",
   "execution_count": 3,
   "metadata": {},
   "outputs": [
    {
     "name": "stdout",
     "output_type": "stream",
     "text": [
      "Toyota\n",
      "Car: Toyota Corolla\n",
      "Car: Toyota Corolla\n"
     ]
    }
   ],
   "source": [
    "class Car:\n",
    "    def __init__(self, brand, model):\n",
    "        self.__brand = brand  # Private attribute\n",
    "        self.__model = model  # Private attribute\n",
    "\n",
    "    def __display_info(self):  # Private method\n",
    "        return f\"Car: {self.__brand} {self.__model}\"\n",
    "\n",
    "    def public_method(self):\n",
    "        # Accessing private attributes and methods within the class\n",
    "        return self.__display_info()\n",
    "\n",
    "# Usage\n",
    "car = Car(\"Toyota\", \"Corolla\")\n",
    "# Accessing private attributes and methods directly will raise an AttributeError\n",
    "# print(car.__brand)               # AttributeError\n",
    "# print(car.__display_info())      # AttributeError\n",
    "\n",
    "# Access private attributes via name mangling\n",
    "print(car._Car__brand)            # Accessible via mangled name: Toyota\n",
    "print(car._Car__display_info())   # Accessible via mangled name: Car: Toyota Corolla\n",
    "\n",
    "# Or use a public method to access them safely\n",
    "print(car.public_method())        # Car: Toyota Corolla\n"
   ]
  },
  {
   "cell_type": "markdown",
   "metadata": {},
   "source": [
    "Summary of Access Modifiers in Python\n",
    "\n",
    "Modifier\tSyntax Example\tAccessible Outside Class?\tIntended Usage\n",
    "Public\tself.attribute\tYes\tFor attributes/methods that are intended to be accessible from anywhere.\n",
    "Protected\tself._attribute\tYes (by convention, avoid)\tFor internal use within the class and subclasses.\n",
    "Private\tself.__attribute\tNo (except via name mangling)\tFor strict internal use within the class only.\n",
    "\n",
    "Why Use Access Modifiers?\n",
    "Access modifiers help to enforce encapsulation, a core principle of object-oriented programming, by controlling how data is accessed and modified. This:\n",
    "\n",
    "Helps to protect the integrity of the class's data.\n",
    "Allows internal implementation details to change without affecting external code that relies on public interfaces."
   ]
  }
 ],
 "metadata": {
  "kernelspec": {
   "display_name": "Python 3",
   "language": "python",
   "name": "python3"
  },
  "language_info": {
   "codemirror_mode": {
    "name": "ipython",
    "version": 3
   },
   "file_extension": ".py",
   "mimetype": "text/x-python",
   "name": "python",
   "nbconvert_exporter": "python",
   "pygments_lexer": "ipython3",
   "version": "3.12.5"
  }
 },
 "nbformat": 4,
 "nbformat_minor": 2
}
