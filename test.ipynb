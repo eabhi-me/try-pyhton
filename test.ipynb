{
 "cells": [
  {
   "cell_type": "code",
   "execution_count": 6,
   "metadata": {},
   "outputs": [],
   "source": [
    "def MoM(L): # Median of medians with block of 7 elements\n",
    "  if len(L) <= 7:\n",
    "    L.sort()\n",
    "    return(L[len(L)//2])\n",
    "  # Construct list of block medians\n",
    "  M = []\n",
    "  for i in range(0,len(L),7):\n",
    "    X = L[i:i+7]\n",
    "    print(X)\n",
    "    print(\"Making: \\n\")\n",
    "    X.sort()\n",
    "    M.append(X[len(X)//2])\n",
    "    print(M)\n",
    "    print(\"\\n\")\n",
    "  return(MoM(M))"
   ]
  },
  {
   "cell_type": "code",
   "execution_count": 7,
   "metadata": {},
   "outputs": [
    {
     "name": "stdout",
     "output_type": "stream",
     "text": [
      "[9, 7, 10, 13, 4, 3, 5]\n",
      "Making: \n",
      "\n",
      "[7]\n",
      "\n",
      "\n",
      "[6, 2, 1, 8, 15, 12, 19]\n",
      "Making: \n",
      "\n",
      "[7, 8]\n",
      "\n",
      "\n",
      "[14, 24, 21, 18, 25, 23, 18]\n",
      "Making: \n",
      "\n",
      "[7, 8, 21]\n",
      "\n",
      "\n",
      "[17, 11, 17, 20, 27, 26]\n",
      "Making: \n",
      "\n",
      "[7, 8, 21, 20]\n",
      "\n",
      "\n",
      "20\n"
     ]
    }
   ],
   "source": [
    "L = [9, 7, 10, 13, 4, 3, 5, 6, 2, 1, 8, 15, 12, 19, 14, 24, 21, 18, 25, 23, 18, 17, 11, 17, 20, 27, 26]\n",
    "print(MoM(L))"
   ]
  }
 ],
 "metadata": {
  "kernelspec": {
   "display_name": "Python 3",
   "language": "python",
   "name": "python3"
  },
  "language_info": {
   "codemirror_mode": {
    "name": "ipython",
    "version": 3
   },
   "file_extension": ".py",
   "mimetype": "text/x-python",
   "name": "python",
   "nbconvert_exporter": "python",
   "pygments_lexer": "ipython3",
   "version": "3.12.5"
  }
 },
 "nbformat": 4,
 "nbformat_minor": 2
}
